{
 "cells": [
  {
   "cell_type": "markdown",
   "metadata": {
    "id": "ZCp22QaUyc-K"
   },
   "source": [
    "# Main Goals\n",
    "\n",
    "Given a dataset containing Hebrew posts from social media, **predict whether a post has violent sentiment (tag == 1) or not (tag == 0)**. \n",
    "\n",
    "The output should be a text\\csv file which contains a single column with the prediction (0 or 1) for each one of the test samples. Each prediction in the output file should be in a separate row. The **test data is considered as an UNSEEN dataset,** which is available only for calculating your predictions. \n",
    "\n",
    "Assumption on the Objectif:\n",
    "In the context of hate speech in social medias, it is very importante to be able to detect it. **Our strategy here is to maximize the detection of harmfull speeches while guaranteeing a good accuracy with preserving the other speeches**.\n",
    "\n",
    "We will considerate only the Feature Text and Tag for the classification to focus on the detection base on the text only.\n",
    "\n",
    "Steps:\n",
    "1. Data Cleaning and Processing\n",
    "2. Data Analysis to look for some insights \n",
    "3. Oversampling the minor class\n",
    "4. Classification\n"
   ]
  },
  {
   "cell_type": "markdown",
   "metadata": {
    "id": "DkOdRzeoOGwJ"
   },
   "source": [
    "# Packages"
   ]
  },
  {
   "cell_type": "code",
   "execution_count": 1,
   "metadata": {
    "id": "o5c1GQkvhN7D"
   },
   "outputs": [],
   "source": [
    "import os\n",
    "import numpy as np\n",
    "import pandas as pd\n",
    "from collections import Counter\n",
    "from collections import defaultdict\n",
    "import matplotlib.pyplot as plt\n",
    "from random import sample\n",
    "from numpy.random import uniform\n",
    "import numpy as np\n",
    "from math import isnan\n",
    "import string\n",
    "import re\n",
    "# from google.colab import drive, files\n",
    "import io\n",
    "import matplotlib.pyplot as plt\n",
    "\n",
    "\n",
    "from gensim import utils\n",
    "import gensim.parsing.preprocessing as gsp\n",
    "\n",
    "from sklearn.model_selection import KFold\n",
    "from sklearn.utils.multiclass import unique_labels\n",
    "from sklearn.feature_extraction.text import CountVectorizer\n",
    "from sklearn.feature_extraction.text import TfidfVectorizer\n",
    "from sklearn.model_selection import train_test_split\n",
    "from sklearn.naive_bayes import MultinomialNB, ComplementNB\n",
    "from sklearn import metrics"
   ]
  },
  {
   "cell_type": "markdown",
   "metadata": {
    "id": "ZXOzD2CxOKA2"
   },
   "source": [
    "# Utilities"
   ]
  },
  {
   "cell_type": "code",
   "execution_count": 2,
   "metadata": {
    "id": "WEwwmjZnKRtr"
   },
   "outputs": [],
   "source": [
    "def plot_confusion_matrix(y_true, y_pred):\n",
    "    # define confusion matrix\n",
    "    cm = metrics.confusion_matrix(y_true, y_pred)\n",
    "    # define name of classes\n",
    "    classes = unique_labels(y_true, y_pred)\n",
    "    # define the plot of the confusion matrix\n",
    "    cmap = plt.cm.Blues\n",
    "    fig, ax = plt.subplots(figsize=(7,7))\n",
    "    im = ax.imshow(cm, interpolation='nearest', cmap=cmap)\n",
    "    ax.figure.colorbar(im, ax=ax)\n",
    "    ax.set(xticks=np.arange(cm.shape[1]), yticks=np.arange(cm.shape[0]),\n",
    "               xticklabels=classes, yticklabels=classes,\n",
    "               title='Confusion Matrix',\n",
    "               ylabel='True label',\n",
    "               xlabel='Predicted label')\n",
    "    plt.setp(ax.get_xticklabels(), rotation=45, ha=\"right\", rotation_mode=\"anchor\")\n",
    "    fmt = '.2f' \n",
    "    thresh = cm.max() / 2.\n",
    "    for i in range(cm.shape[0]):\n",
    "        for j in range(cm.shape[1]):\n",
    "            ax.text(j, i, format(cm[i, j], fmt), ha=\"center\", va=\"center\", color=\"black\" if cm[i, j] > thresh else \"red\")\n",
    "    fig.tight_layout()\n",
    "    plt.show()\n",
    "\n",
    "def model_eval(y_true, y_pred, y_prob):\n",
    "    acc = metrics.accuracy_score(y_true, y_pred)\n",
    "    f1 = metrics.f1_score(y_true, y_pred)\n",
    "    recall = metrics.recall_score(y_true, y_pred)\n",
    "    precision = metrics.precision_score(y_true, y_pred)\n",
    "    print('acc: ', acc)\n",
    "    print('f1: ', f1)\n",
    "    print('recall: ', recall)\n",
    "    print('precision: ', precision)\n",
    "\n",
    "    plot_confusion_matrix(y_true, y_pred)\n",
    "\n",
    "\n",
    "    fpr_rf, tpr_rf, throc = metrics.roc_curve(y_true, y_prob[:,1])\n",
    "    plt.plot(fpr_rf, tpr_rf)\n",
    "    plt.title(\"ROC curve\")\n",
    "    plt.xlabel('FPR')\n",
    "    plt.ylabel('TPR')\n",
    "    plt.show()\n",
    "\n",
    "    roc_auc = metrics.auc(fpr_rf, tpr_rf)\n",
    "    print('roc_auc: ', roc_auc)\n",
    "\n",
    "    precision_rf, recall_rf, thpr = metrics.precision_recall_curve(y_true, y_prob[:,1])\n",
    "    plt.plot(precision_rf, recall_rf)\n",
    "    plt.title(\"PR curve\")\n",
    "    plt.xlabel('Recall')\n",
    "    plt.ylabel('precision')\n",
    "    plt.show()\n",
    "\n",
    "    pr_auc = metrics.auc(recall_rf, precision_rf)\n",
    "    print('pr_auc: ', pr_auc)\n",
    "\n",
    "    return acc, f1, precision, recall, roc_auc, pr_auc\n",
    "\n",
    "def clf_by_th(y_prob, th):\n",
    "    y = np.zeros_like(y_prob)\n",
    "    for i,p in enumerate(y_prob):\n",
    "        if p>=th:\n",
    "            y[i]=1\n",
    "    return y\n"
   ]
  },
  {
   "cell_type": "code",
   "execution_count": 4,
   "metadata": {
    "colab": {
     "base_uri": "https://localhost:8080/"
    },
    "id": "8_kylvuohVmE",
    "outputId": "031db3ed-daf6-48cb-d3e3-9ef77ed54256"
   },
   "outputs": [
    {
     "name": "stdout",
     "output_type": "stream",
     "text": [
      "Mounted at /content/gdrive\n"
     ]
    }
   ],
   "source": [
    "# drive.mount('/content/gdrive')"
   ]
  },
  {
   "cell_type": "markdown",
   "metadata": {
    "id": "c0y5OY5ipRh2"
   },
   "source": [
    "# Data Extraction\n",
    "\n",
    "1. Extract the train and test sets\n",
    "2. Extract Hebrew Stopswords found on internet"
   ]
  },
  {
   "cell_type": "code",
   "execution_count": 51,
   "metadata": {
    "id": "ABOjLrX3hYCe"
   },
   "outputs": [],
   "source": [
    "df_train = pd.read_excel('gdrive/My Drive/FAT-GROUP Home Assignement/train_set.xlsx')\n",
    "df_test = pd.read_excel('gdrive/My Drive/FAT-GROUP Home Assignement/test_set.xlsx')"
   ]
  },
  {
   "cell_type": "code",
   "execution_count": 7,
   "metadata": {
    "id": "JY3qLJ71pwf9"
   },
   "outputs": [],
   "source": [
    "STOPWORDS = []\n",
    "f = open(\"gdrive/My Drive/FAT-GROUP Home Assignement/hebrew_stopwords.txt\", \"r\")\n",
    "for line in f:\n",
    "    STOPWORDS.append(re.sub('\\n', '', line))\n"
   ]
  },
  {
   "cell_type": "markdown",
   "metadata": {
    "id": "gXmbBEnRqsYH"
   },
   "source": [
    "# Data Cleaning And Processing"
   ]
  },
  {
   "cell_type": "markdown",
   "metadata": {
    "id": "zmse4rz6rnlN"
   },
   "source": [
    "## Cleaning\n",
    "\n",
    "1. Verify Tag feature and modify it as binary 0/1 variable (1 for hate speech)\n",
    "2. Verify other features if there is any NaN and drop them if possible\n",
    "3. Verify duplicated text + tag"
   ]
  },
  {
   "cell_type": "markdown",
   "metadata": {
    "id": "9bITIjHw0t5l"
   },
   "source": [
    "### Feature Tag"
   ]
  },
  {
   "cell_type": "code",
   "execution_count": 8,
   "metadata": {
    "colab": {
     "base_uri": "https://localhost:8080/"
    },
    "id": "hEJU3bLy0k7Q",
    "outputId": "305f60f0-28ef-4b6e-8112-f905791dd2a1"
   },
   "outputs": [
    {
     "data": {
      "text/plain": [
       "array(['לא', 'כן', 'לא '], dtype=object)"
      ]
     },
     "execution_count": 8,
     "metadata": {
      "tags": []
     },
     "output_type": "execute_result"
    }
   ],
   "source": [
    "df_train.Tag.unique()"
   ]
  },
  {
   "cell_type": "code",
   "execution_count": 9,
   "metadata": {
    "id": "7UsAKVTmt32H"
   },
   "outputs": [],
   "source": [
    "df_train.replace({'Tag':{'כן':1, 'לא':0, 'לא ':0}}, inplace=True)"
   ]
  },
  {
   "cell_type": "code",
   "execution_count": 10,
   "metadata": {
    "colab": {
     "base_uri": "https://localhost:8080/"
    },
    "id": "aZvb1Obu67Gw",
    "outputId": "307a9ad3-8626-4b93-aca2-16642f7e6d94"
   },
   "outputs": [
    {
     "data": {
      "text/plain": [
       "0    0.981901\n",
       "1    0.018099\n",
       "Name: Tag, dtype: float64"
      ]
     },
     "execution_count": 10,
     "metadata": {
      "tags": []
     },
     "output_type": "execute_result"
    }
   ],
   "source": [
    "df_train.Tag.value_counts(normalize=True)"
   ]
  },
  {
   "cell_type": "markdown",
   "metadata": {
    "id": "0jgjetWu7CFn"
   },
   "source": [
    "We notice that the train set is really imbalanced with less than 2% of tagged harmfull texts."
   ]
  },
  {
   "cell_type": "markdown",
   "metadata": {
    "id": "_cFgSUS702SC"
   },
   "source": [
    "### Explore the Cloumns"
   ]
  },
  {
   "cell_type": "markdown",
   "metadata": {
    "id": "_9JZzLdI13Oz"
   },
   "source": [
    "#### NaN values\n",
    "\n",
    "The number of NaN values is important for missing values strategy.\n",
    "With few missing values, droping them can be be a good solution because it will not affected the model's training."
   ]
  },
  {
   "cell_type": "code",
   "execution_count": 11,
   "metadata": {
    "colab": {
     "base_uri": "https://localhost:8080/"
    },
    "id": "HvWsddt1rsct",
    "outputId": "721bcdd2-e4d5-44c7-dafb-e5b4c67c7a16"
   },
   "outputs": [
    {
     "name": "stdout",
     "output_type": "stream",
     "text": [
      "<class 'pandas.core.frame.DataFrame'>\n",
      "RangeIndex: 24753 entries, 0 to 24752\n",
      "Data columns (total 9 columns):\n",
      " #   Column     Non-Null Count  Dtype  \n",
      "---  ------     --------------  -----  \n",
      " 0   Date       24753 non-null  object \n",
      " 1   Hour       24753 non-null  object \n",
      " 2   Type       24753 non-null  object \n",
      " 3   Text       24751 non-null  object \n",
      " 4   Comments   24752 non-null  float64\n",
      " 5   Likes      24752 non-null  float64\n",
      " 6   Shares     24752 non-null  float64\n",
      " 7   Is_Parent  24753 non-null  object \n",
      " 8   Tag        24753 non-null  int64  \n",
      "dtypes: float64(3), int64(1), object(5)\n",
      "memory usage: 1.7+ MB\n"
     ]
    }
   ],
   "source": [
    "df_train.info()"
   ]
  },
  {
   "cell_type": "markdown",
   "metadata": {
    "id": "xzMMWZMe1mdX"
   },
   "source": [
    "We notice 2 NaN values - we drop these rows"
   ]
  },
  {
   "cell_type": "code",
   "execution_count": 12,
   "metadata": {
    "id": "TVT8IPnlr7SO"
   },
   "outputs": [],
   "source": [
    "df_train.dropna(inplace=True)"
   ]
  },
  {
   "cell_type": "markdown",
   "metadata": {
    "id": "uWXgnad516hd"
   },
   "source": [
    "#### Duplicates\n",
    "\n",
    "We are going to drop duplicated texts associated with their tag for applying a term-occurence matrix.\n",
    "Because if a document is too much duplicated, its value in the term-occurence matrix will be biais."
   ]
  },
  {
   "cell_type": "code",
   "execution_count": 13,
   "metadata": {
    "colab": {
     "base_uri": "https://localhost:8080/",
     "height": 297
    },
    "id": "w6O8WwOB2EmV",
    "outputId": "2f064074-fdab-4a27-c851-a7783dfc9979"
   },
   "outputs": [
    {
     "data": {
      "text/html": [
       "<div>\n",
       "<style scoped>\n",
       "    .dataframe tbody tr th:only-of-type {\n",
       "        vertical-align: middle;\n",
       "    }\n",
       "\n",
       "    .dataframe tbody tr th {\n",
       "        vertical-align: top;\n",
       "    }\n",
       "\n",
       "    .dataframe thead th {\n",
       "        text-align: right;\n",
       "    }\n",
       "</style>\n",
       "<table border=\"1\" class=\"dataframe\">\n",
       "  <thead>\n",
       "    <tr style=\"text-align: right;\">\n",
       "      <th></th>\n",
       "      <th>0</th>\n",
       "    </tr>\n",
       "  </thead>\n",
       "  <tbody>\n",
       "    <tr>\n",
       "      <th>count</th>\n",
       "      <td>1413.000000</td>\n",
       "    </tr>\n",
       "    <tr>\n",
       "      <th>mean</th>\n",
       "      <td>7.443029</td>\n",
       "    </tr>\n",
       "    <tr>\n",
       "      <th>std</th>\n",
       "      <td>17.379057</td>\n",
       "    </tr>\n",
       "    <tr>\n",
       "      <th>min</th>\n",
       "      <td>2.000000</td>\n",
       "    </tr>\n",
       "    <tr>\n",
       "      <th>25%</th>\n",
       "      <td>2.000000</td>\n",
       "    </tr>\n",
       "    <tr>\n",
       "      <th>50%</th>\n",
       "      <td>3.000000</td>\n",
       "    </tr>\n",
       "    <tr>\n",
       "      <th>75%</th>\n",
       "      <td>6.000000</td>\n",
       "    </tr>\n",
       "    <tr>\n",
       "      <th>max</th>\n",
       "      <td>332.000000</td>\n",
       "    </tr>\n",
       "  </tbody>\n",
       "</table>\n",
       "</div>"
      ],
      "text/plain": [
       "                 0\n",
       "count  1413.000000\n",
       "mean      7.443029\n",
       "std      17.379057\n",
       "min       2.000000\n",
       "25%       2.000000\n",
       "50%       3.000000\n",
       "75%       6.000000\n",
       "max     332.000000"
      ]
     },
     "execution_count": 13,
     "metadata": {
      "tags": []
     },
     "output_type": "execute_result"
    }
   ],
   "source": [
    "df_duplicates = df_train.groupby('Text').size().reset_index().sort_values(0, ascending=False)\n",
    "df_duplicates[df_duplicates[0]>=2].describe()"
   ]
  },
  {
   "cell_type": "markdown",
   "metadata": {
    "id": "eykAP9XM2vsE"
   },
   "source": [
    "We saw that 1413 documents from the train set are duplicated. The mean of duplicats is 7 and a maximal occurence for one text is 332."
   ]
  },
  {
   "cell_type": "code",
   "execution_count": 14,
   "metadata": {
    "id": "PVBZhzhK24rN"
   },
   "outputs": [],
   "source": [
    "df_train.drop_duplicates(subset=['Text', 'Tag'], inplace=True)"
   ]
  },
  {
   "cell_type": "markdown",
   "metadata": {
    "id": "kkNm4pcd7szE"
   },
   "source": [
    "We drop duplicated text with their tag to keep uses case where a specific duplicated text has different tag."
   ]
  },
  {
   "cell_type": "code",
   "execution_count": 16,
   "metadata": {
    "colab": {
     "base_uri": "https://localhost:8080/"
    },
    "id": "INg1OxpL-ujY",
    "outputId": "3c5d895c-c281-4b1a-e1ee-c3974e062085"
   },
   "outputs": [
    {
     "data": {
      "text/plain": [
       "0    0.971963\n",
       "1    0.028037\n",
       "Name: Tag, dtype: float64"
      ]
     },
     "execution_count": 16,
     "metadata": {
      "tags": []
     },
     "output_type": "execute_result"
    }
   ],
   "source": [
    "df_train.Tag.value_counts(normalize=True)"
   ]
  },
  {
   "cell_type": "markdown",
   "metadata": {
    "id": "njwy7KWp4VQC"
   },
   "source": [
    "After removing duplicates, we keep the same proportion in the Tag feature."
   ]
  },
  {
   "cell_type": "markdown",
   "metadata": {
    "id": "PCAl-Hr3qwFp"
   },
   "source": [
    "## Text Processing\n",
    "\n",
    "Remove from Text \n",
    "1. Non Hebrew letter\n",
    "2. Punctuation\n",
    "3. Tags\n",
    "4. Multiple WhiteSpaces\n",
    "5. Numeric caracters\n",
    "6. Stopwords"
   ]
  },
  {
   "cell_type": "code",
   "execution_count": 57,
   "metadata": {
    "id": "meMiga0cjRNT"
   },
   "outputs": [],
   "source": [
    "filters = [\n",
    "           gsp.strip_tags, \n",
    "           gsp.strip_punctuation,\n",
    "           gsp.strip_multiple_whitespaces,\n",
    "           gsp.strip_numeric,\n",
    "          ]\n",
    "\n",
    "def clean_text(s):\n",
    "    try:\n",
    "    # apply gensim filter on text\n",
    "    s = s.lower()\n",
    "    s = utils.to_unicode(s)\n",
    "    for f in filters:\n",
    "        s = f(s)\n",
    "\n",
    "    # remove all latin letters from text \n",
    "    s = re.sub('[a-z]', '', s)\n",
    "\n",
    "    # remove stopwords if the text is long enough\n",
    "    if len(s.split(' '))>6:\n",
    "        ns = []\n",
    "        for w in s.split(' '):\n",
    "            if w not in STOPWORDS:\n",
    "                ns.append(w)\n",
    "        s = ' '.join(ns).strip()\n",
    "    except:\n",
    "        s = ''\n",
    "\n",
    "    return s.strip()"
   ]
  },
  {
   "cell_type": "code",
   "execution_count": 18,
   "metadata": {
    "id": "UJWwc7EXjwk6"
   },
   "outputs": [],
   "source": [
    "df_train['Clean_text'] = df_train.Text.apply(lambda t: clean_text(t))"
   ]
  },
  {
   "cell_type": "markdown",
   "metadata": {
    "id": "tfoQ7gHe5cIr"
   },
   "source": [
    "We created  the variable **Clean_Text** wich strores the text after processing."
   ]
  },
  {
   "cell_type": "code",
   "execution_count": 19,
   "metadata": {
    "id": "X4jzwFmpjzn9"
   },
   "outputs": [],
   "source": [
    "df_train['Len_clean_text'] = df_train.Clean_text.apply(lambda t: len(t.split(' ')))"
   ]
  },
  {
   "cell_type": "markdown",
   "metadata": {
    "id": "VOkc0c9H8SWT"
   },
   "source": [
    "We create also the feature **Len_clean_text** for the oversampling - the algorithm depends on the length of the text."
   ]
  },
  {
   "cell_type": "markdown",
   "metadata": {
    "id": "50QFfit8Gydw"
   },
   "source": [
    "# EDA\n",
    "\n",
    "We are focusing on most commun words used in the both groups. It can give an idea about the most commun topic used in the groups. \n"
   ]
  },
  {
   "cell_type": "markdown",
   "metadata": {
    "id": "JAANIQh76Chs"
   },
   "source": [
    "## Most Common Words"
   ]
  },
  {
   "cell_type": "markdown",
   "metadata": {
    "id": "XvsrCaX76JiA"
   },
   "source": [
    "### Non Violent Text Tag=0"
   ]
  },
  {
   "cell_type": "code",
   "execution_count": 20,
   "metadata": {
    "colab": {
     "base_uri": "https://localhost:8080/"
    },
    "id": "FSYlGu446Q-f",
    "outputId": "f741dbc8-b838-4a17-e765-4efbdd37b20f"
   },
   "outputs": [
    {
     "name": "stdout",
     "output_type": "stream",
     "text": [
      "15219\n"
     ]
    }
   ],
   "source": [
    "df0 = df_train[df_train.Tag==0]\n",
    "corpus0 = df0.Clean_text.values.tolist()\n",
    "print(len(corpus0))"
   ]
  },
  {
   "cell_type": "code",
   "execution_count": 21,
   "metadata": {
    "id": "E2y-Zvtf6Q0h"
   },
   "outputs": [],
   "source": [
    "bow = CountVectorizer(max_features=1000, max_df=1.0, min_df=1, ngram_range=(1,2))\n",
    "X0 = bow.fit_transform(corpus0)\n",
    "vocab0 = bow.get_feature_names()\n",
    "sum_words0 = X0.sum(axis=0)\n",
    "words_freq0 = [(word, np.round(100*sum_words0[0, idx]/X0.shape[0],2)) for word, idx in bow.vocabulary_.items()]\n",
    "words_freq0 =sorted(words_freq0, key = lambda x: x[1], reverse=True)"
   ]
  },
  {
   "cell_type": "code",
   "execution_count": 22,
   "metadata": {
    "colab": {
     "base_uri": "https://localhost:8080/"
    },
    "id": "x1TS1IK97UcY",
    "outputId": "e6f1440d-5389-48a7-bf3a-19bfdc8da435"
   },
   "outputs": [
    {
     "name": "stdout",
     "output_type": "stream",
     "text": [
      "1000\n"
     ]
    }
   ],
   "source": [
    "print(len(vocab0))"
   ]
  },
  {
   "cell_type": "code",
   "execution_count": 30,
   "metadata": {
    "colab": {
     "base_uri": "https://localhost:8080/"
    },
    "id": "qTsPXzxR6-wU",
    "outputId": "0229aa1c-bedc-4f06-ae86-819015b3bc89"
   },
   "outputs": [
    {
     "data": {
      "text/plain": [
       "[('נתניהו', 27.18),\n",
       " ('ביבי', 24.45),\n",
       " ('גנץ', 18.21),\n",
       " ('הממשלה', 12.44),\n",
       " ('בוגד', 11.6),\n",
       " ('המדינה', 9.03),\n",
       " ('ליברמן', 8.41),\n",
       " ('השמאל', 6.3),\n",
       " ('רצח', 6.16),\n",
       " ('לישראל', 6.08)]"
      ]
     },
     "execution_count": 30,
     "metadata": {
      "tags": []
     },
     "output_type": "execute_result"
    }
   ],
   "source": [
    "words_freq0[:10]"
   ]
  },
  {
   "cell_type": "markdown",
   "metadata": {
    "id": "i4MDqnHU9Al1"
   },
   "source": [
    "A lot of politics... The most common words refers to politics and political personnalities."
   ]
  },
  {
   "cell_type": "markdown",
   "metadata": {
    "id": "oOHNlIjP9Zmh"
   },
   "source": [
    "### Violent Text Tag=1"
   ]
  },
  {
   "cell_type": "code",
   "execution_count": 24,
   "metadata": {
    "colab": {
     "base_uri": "https://localhost:8080/"
    },
    "id": "20xH-EnOBN9X",
    "outputId": "a88cec7a-a194-48d6-83d8-bccf2104af77"
   },
   "outputs": [
    {
     "name": "stdout",
     "output_type": "stream",
     "text": [
      "439\n"
     ]
    }
   ],
   "source": [
    "df1 = df_train[df_train.Tag==1]\n",
    "corpus1 = df1.Clean_text.values.tolist()\n",
    "print(len(corpus1))"
   ]
  },
  {
   "cell_type": "code",
   "execution_count": 25,
   "metadata": {
    "id": "u5guz_LZLobc"
   },
   "outputs": [],
   "source": [
    "bow = CountVectorizer(max_features=1000, max_df=1.0, min_df=1, ngram_range=(1,2))\n",
    "X1 = bow.fit_transform(corpus1)\n",
    "vocab1 = bow.get_feature_names()\n",
    "sum_words1 = X1.sum(axis=0)\n",
    "words_freq1 = [(word, np.round(100*sum_words1[0, idx]/X1.shape[0],2)) for word, idx in bow.vocabulary_.items()]\n",
    "words_freq1 =sorted(words_freq1, key = lambda x: x[1], reverse=True)"
   ]
  },
  {
   "cell_type": "code",
   "execution_count": 31,
   "metadata": {
    "colab": {
     "base_uri": "https://localhost:8080/"
    },
    "id": "VwWFYs7O9mRe",
    "outputId": "0bbce0de-8465-49a5-aa4e-c6d257007337"
   },
   "outputs": [
    {
     "data": {
      "text/plain": [
       "[('ימח', 43.74),\n",
       " ('שמו', 23.92),\n",
       " ('ימח שמו', 21.41),\n",
       " ('שמם', 15.72),\n",
       " ('ימח שמם', 13.67),\n",
       " ('ליברמן', 13.44),\n",
       " ('ביבי', 10.25),\n",
       " ('אמן', 9.79),\n",
       " ('מוות', 9.34),\n",
       " ('וזכרו', 9.11)]"
      ]
     },
     "execution_count": 31,
     "metadata": {
      "tags": []
     },
     "output_type": "execute_result"
    }
   ],
   "source": [
    "words_freq1[:10]"
   ]
  },
  {
   "cell_type": "markdown",
   "metadata": {
    "id": "Uk40WO-F-MPG"
   },
   "source": [
    "Here we see that the most represnted words are curses: **ימח שמו** is a very good example. We have also some words refering to polistical personalitites and from  religious context like **אמן**."
   ]
  },
  {
   "cell_type": "markdown",
   "metadata": {
    "id": "ik1SSh0v-z5L"
   },
   "source": [
    "### Commun words in the both groups\n",
    "\n",
    "we want to know what are the discriminant words common in the both groups. Some words can appear in violent and nonviolent speeches but do they have the same importance ?"
   ]
  },
  {
   "cell_type": "code",
   "execution_count": 27,
   "metadata": {
    "id": "x1hinzD5LxUX"
   },
   "outputs": [],
   "source": [
    "res = {}\n",
    "for w0 in words_freq0:\n",
    "    for w1 in words_freq1:\n",
    "        if w0[0]==w1[0]:\n",
    "            res[w0[0]] = {'prop_0': w0[1], 'prop_1':w1[1]}\n",
    "df_common_words_01 = pd.DataFrame(res).T.reset_index().rename(columns={'index':'Common_words'})\n",
    "df_common_words_01['dist'] = (df_common_words_01.prop_0-df_common_words_01.prop_1)**2"
   ]
  },
  {
   "cell_type": "markdown",
   "metadata": {
    "id": "nshl2M8LRMnx"
   },
   "source": [
    "The feature **dist** created is the euclidean distance between the occurence percentage from the group 0 and 1 fro the same word. It allows us to order the dataframe obtained."
   ]
  },
  {
   "cell_type": "code",
   "execution_count": 29,
   "metadata": {
    "colab": {
     "base_uri": "https://localhost:8080/",
     "height": 359
    },
    "id": "jOabCdxVpNhp",
    "outputId": "17924cc5-ba08-488d-fdd9-65d2ae44832f"
   },
   "outputs": [
    {
     "data": {
      "text/html": [
       "<div>\n",
       "<style scoped>\n",
       "    .dataframe tbody tr th:only-of-type {\n",
       "        vertical-align: middle;\n",
       "    }\n",
       "\n",
       "    .dataframe tbody tr th {\n",
       "        vertical-align: top;\n",
       "    }\n",
       "\n",
       "    .dataframe thead th {\n",
       "        text-align: right;\n",
       "    }\n",
       "</style>\n",
       "<table border=\"1\" class=\"dataframe\">\n",
       "  <thead>\n",
       "    <tr style=\"text-align: right;\">\n",
       "      <th></th>\n",
       "      <th>Common_words</th>\n",
       "      <th>prop_0</th>\n",
       "      <th>prop_1</th>\n",
       "      <th>dist</th>\n",
       "    </tr>\n",
       "  </thead>\n",
       "  <tbody>\n",
       "    <tr>\n",
       "      <th>138</th>\n",
       "      <td>ימח</td>\n",
       "      <td>1.10</td>\n",
       "      <td>43.74</td>\n",
       "      <td>1818.1696</td>\n",
       "    </tr>\n",
       "    <tr>\n",
       "      <th>136</th>\n",
       "      <td>שמו</td>\n",
       "      <td>1.10</td>\n",
       "      <td>23.92</td>\n",
       "      <td>520.7524</td>\n",
       "    </tr>\n",
       "    <tr>\n",
       "      <th>271</th>\n",
       "      <td>ימח שמו</td>\n",
       "      <td>0.57</td>\n",
       "      <td>21.41</td>\n",
       "      <td>434.3056</td>\n",
       "    </tr>\n",
       "    <tr>\n",
       "      <th>0</th>\n",
       "      <td>נתניהו</td>\n",
       "      <td>27.18</td>\n",
       "      <td>7.06</td>\n",
       "      <td>404.8144</td>\n",
       "    </tr>\n",
       "    <tr>\n",
       "      <th>219</th>\n",
       "      <td>שמם</td>\n",
       "      <td>0.70</td>\n",
       "      <td>15.72</td>\n",
       "      <td>225.6004</td>\n",
       "    </tr>\n",
       "    <tr>\n",
       "      <th>1</th>\n",
       "      <td>ביבי</td>\n",
       "      <td>24.45</td>\n",
       "      <td>10.25</td>\n",
       "      <td>201.6400</td>\n",
       "    </tr>\n",
       "    <tr>\n",
       "      <th>2</th>\n",
       "      <td>גנץ</td>\n",
       "      <td>18.21</td>\n",
       "      <td>7.29</td>\n",
       "      <td>119.2464</td>\n",
       "    </tr>\n",
       "    <tr>\n",
       "      <th>3</th>\n",
       "      <td>הממשלה</td>\n",
       "      <td>12.44</td>\n",
       "      <td>3.64</td>\n",
       "      <td>77.4400</td>\n",
       "    </tr>\n",
       "    <tr>\n",
       "      <th>5</th>\n",
       "      <td>המדינה</td>\n",
       "      <td>9.03</td>\n",
       "      <td>2.73</td>\n",
       "      <td>39.6900</td>\n",
       "    </tr>\n",
       "    <tr>\n",
       "      <th>28</th>\n",
       "      <td>מוות</td>\n",
       "      <td>3.52</td>\n",
       "      <td>9.34</td>\n",
       "      <td>33.8724</td>\n",
       "    </tr>\n",
       "  </tbody>\n",
       "</table>\n",
       "</div>"
      ],
      "text/plain": [
       "    Common_words  prop_0  prop_1       dist\n",
       "138          ימח    1.10   43.74  1818.1696\n",
       "136          שמו    1.10   23.92   520.7524\n",
       "271      ימח שמו    0.57   21.41   434.3056\n",
       "0         נתניהו   27.18    7.06   404.8144\n",
       "219          שמם    0.70   15.72   225.6004\n",
       "1           ביבי   24.45   10.25   201.6400\n",
       "2            גנץ   18.21    7.29   119.2464\n",
       "3         הממשלה   12.44    3.64    77.4400\n",
       "5         המדינה    9.03    2.73    39.6900\n",
       "28          מוות    3.52    9.34    33.8724"
      ]
     },
     "execution_count": 29,
     "metadata": {
      "tags": []
     },
     "output_type": "execute_result"
    }
   ],
   "source": [
    "df_common_words_01.sort_values(['dist'], ascending=False).head(10)"
   ]
  },
  {
   "cell_type": "markdown",
   "metadata": {
    "id": "1MGn_3xFqXHY"
   },
   "source": [
    "We see here common words from the two groups having different frequencies. For example, the word **נתניהו** refers more to normal speeches than **ימח שמו** which is refering to harmfull speeches even if these words appear into the two contexts."
   ]
  },
  {
   "cell_type": "markdown",
   "metadata": {
    "id": "tE0qQMeufbMA"
   },
   "source": [
    "# Oversampling Minor Class\n",
    "\n",
    "The harmfull speeches represent a very small part of the train set - 2%. \n",
    "\n",
    "For reducing the imbalance, we oversample the minor class by building new document with the vocab associated.\n",
    "\n",
    "Here the method:\n",
    "1. Get L the length distribution of the minor class\n",
    "2. Set k the number of new texts created from an original text.\n",
    "3. For each original text\n",
    "  1. choose randomly n from L\n",
    "  2. select m texts with size n\n",
    "  3. put all tokens from the m documents in a set\n",
    "  4. choose n tokens k times"
   ]
  },
  {
   "cell_type": "markdown",
   "metadata": {
    "id": "DzhMk2jkEqsW"
   },
   "source": [
    "## Random Text Generation"
   ]
  },
  {
   "cell_type": "code",
   "execution_count": 32,
   "metadata": {
    "id": "I79xAxtcffIV"
   },
   "outputs": [],
   "source": [
    "# get length distribution\n",
    "len_dist = df1.Len_clean_text.values\n",
    "\n",
    "# set k the nb of new doc create from an original\n",
    "k = 10\n",
    "\n",
    "# list of new documents\n",
    "new_docs = []\n",
    "\n",
    "for i in range(df1.shape[0]):\n",
    "    # randomly choose a lenght\n",
    "    n = np.random.choice(len_dist, 1)[0]\n",
    "\n",
    "    # select all docs with the length choosen\n",
    "    cn = df1[df1.Len_clean_text==n].Clean_text.values.tolist()\n",
    "\n",
    "    # generate the set of tokens\n",
    "    list_tokens = []\n",
    "    for c in cn:\n",
    "    list_tokens = list_tokens + c.split(' ')\n",
    "    set_tokens = set(list_tokens)\n",
    "\n",
    "    # generate new document from  the original ones\n",
    "    for j in range(k):\n",
    "    doc = ' '.join(np.random.choice(np.array(list(set_tokens)), n).tolist())\n",
    "    new_docs.append(doc)\n"
   ]
  },
  {
   "cell_type": "markdown",
   "metadata": {
    "id": "JU7I2ovVE4Qw"
   },
   "source": [
    "## Rebuild train Set"
   ]
  },
  {
   "cell_type": "code",
   "execution_count": 33,
   "metadata": {
    "id": "qDM821ERhAzf"
   },
   "outputs": [],
   "source": [
    "df1n = pd.DataFrame(data=new_docs, columns=['Clean_text'])"
   ]
  },
  {
   "cell_type": "code",
   "execution_count": 34,
   "metadata": {
    "id": "zpEbMRDThEOC"
   },
   "outputs": [],
   "source": [
    "df1n['Tag'] = 1"
   ]
  },
  {
   "cell_type": "code",
   "execution_count": 35,
   "metadata": {
    "id": "uJE3scSDjBcQ"
   },
   "outputs": [],
   "source": [
    "df_train_clf = pd.concat([df_train[['Clean_text', 'Tag']], df1n]).sample(frac=1.0).reset_index().drop(['index'], axis=1)"
   ]
  },
  {
   "cell_type": "code",
   "execution_count": 36,
   "metadata": {
    "colab": {
     "base_uri": "https://localhost:8080/"
    },
    "id": "UIrV45gBjZ6X",
    "outputId": "bbfb43ab-e3d2-44d8-8eeb-21c3c0712f91"
   },
   "outputs": [
    {
     "data": {
      "text/plain": [
       "0    0.759128\n",
       "1    0.240872\n",
       "Name: Tag, dtype: float64"
      ]
     },
     "execution_count": 36,
     "metadata": {
      "tags": []
     },
     "output_type": "execute_result"
    }
   ],
   "source": [
    "df_train_clf.Tag.value_counts(normalize=True)"
   ]
  },
  {
   "cell_type": "markdown",
   "metadata": {
    "id": "7PzQZuEWFKNb"
   },
   "source": [
    "We raise the **percentage of violent text to 24%** of dataset "
   ]
  },
  {
   "cell_type": "markdown",
   "metadata": {
    "id": "M05fmmOTjot3"
   },
   "source": [
    "# Classification\n",
    "\n",
    "The model is built with two parts:\n",
    "1. term occurence matrix\n",
    "2. machine learning algorithm \n",
    "\n",
    "We are using **Bag Of Word or TFIDF** term occurence matrix. For the both matrices we are trying 2 models: **MultinomialNB and ComplementNB**.\n",
    "\n",
    "We are going to run several combinations and choose the best according to our strategy.\n",
    "\n",
    "MultinomialNB is one of state of art in text classification problems thanks to its advantages:\n",
    "1. Low computation cost.\n",
    "2. It can effectively work with large datasets.\n",
    "3. For small sample sizes, Naive Bayes can outperform the most powerful alternatives.\n",
    "\n",
    "And also, because the words who seperate the both groups have different frequencies, so we can assume that each word represent the independant features. Moreover, the bigrams are also computed in the term-occurence matrix (hebrew language have .שמיחות\n",
    "\n",
    "So let see how is performed with the data.\n",
    "\n",
    "ComplementNB is the same as MultinomialNB however it was designed to correct the “severe assumptions” made by the MultinomialNB and it supposes to perform better with imbalanced dataset than MultinomialNB."
   ]
  },
  {
   "cell_type": "markdown",
   "metadata": {
    "id": "Pb2lIh2lFoJR"
   },
   "source": [
    "## Set training and the evaluation sets"
   ]
  },
  {
   "cell_type": "code",
   "execution_count": 37,
   "metadata": {
    "id": "jJYxCPwDkPdL"
   },
   "outputs": [],
   "source": [
    "crorpus_train_clf = df_train_clf.Clean_text.values.tolist()\n",
    "\n",
    "tfidf = TfidfVectorizer(max_features=1000, max_df=1.0, min_df=1, ngram_range=(1,2))\n",
    "X_train_tfidf = tfidf.fit_transform(crorpus_train_clf).toarray()\n",
    "\n",
    "bow = CountVectorizer(max_features=1000, max_df=1.0, min_df=1, ngram_range=(1,2))\n",
    "X_train_bow = bow.fit_transform(crorpus_train_clf).toarray()\n",
    "\n",
    "y_train_clf = df_train_clf.Tag.values"
   ]
  },
  {
   "cell_type": "markdown",
   "metadata": {
    "id": "pQDJ-76aIsBD"
   },
   "source": [
    "## Clf - Multinominal Naives Bayes"
   ]
  },
  {
   "cell_type": "code",
   "execution_count": 38,
   "metadata": {
    "id": "wz4JuZ9mXlVu"
   },
   "outputs": [],
   "source": [
    "drecap = {}"
   ]
  },
  {
   "cell_type": "markdown",
   "metadata": {
    "id": "HmqUaq2nBdGB"
   },
   "source": [
    "### MultinominalNB"
   ]
  },
  {
   "cell_type": "markdown",
   "metadata": {
    "id": "SBoRpiRTBm9k"
   },
   "source": [
    "#### Bag Of Words"
   ]
  },
  {
   "cell_type": "code",
   "execution_count": 39,
   "metadata": {
    "colab": {
     "base_uri": "https://localhost:8080/",
     "height": 1000
    },
    "id": "bCUTNGiYB0IB",
    "outputId": "7f7ad0ea-eb48-449b-fc86-3fecd7e07925"
   },
   "outputs": [
    {
     "name": "stdout",
     "output_type": "stream",
     "text": [
      "acc:  0.9184538653366584\n",
      "f1:  0.8428640076886114\n",
      "recall:  0.9078674948240165\n",
      "precision:  0.7865470852017937\n"
     ]
    },
    {
     "data": {
      "image/png": "[encoded data removed]",
      "text/plain": [
       "<Figure size 504x504 with 2 Axes>"
      ]
     },
     "metadata": {
      "needs_background": "light",
      "tags": []
     },
     "output_type": "display_data"
    },
    {
     "data": {
      "image/png": "[encoded data removed]",
      "text/plain": [
       "<Figure size 432x288 with 1 Axes>"
      ]
     },
     "metadata": {
      "needs_background": "light",
      "tags": []
     },
     "output_type": "display_data"
    },
    {
     "name": "stdout",
     "output_type": "stream",
     "text": [
      "roc_auc:  0.9715650786395802\n"
     ]
    },
    {
     "data": {
      "image/png": "[encoded data removed]",
      "text/plain": [
       "<Figure size 432x288 with 1 Axes>"
      ]
     },
     "metadata": {
      "needs_background": "light",
      "tags": []
     },
     "output_type": "display_data"
    },
    {
     "name": "stdout",
     "output_type": "stream",
     "text": [
      "pr_auc:  0.897288742977993\n"
     ]
    }
   ],
   "source": [
    "X_train, X_val, y_train, y_val = train_test_split(X_train_bow, y_train_clf, test_size=0.20, random_state=42, stratify=y_train_clf)\n",
    "\n",
    "multiNB = MultinomialNB()\n",
    "multiNB.fit(X_train, y_train)\n",
    "y_pred = multiNB.predict(X_val)\n",
    "y_prob = multiNB.predict_proba(X_val)\n",
    "\n",
    "acc, f1, precision, recall, roc_auc, pr_auc = model_eval(y_val, y_pred, y_prob)\n",
    "\n",
    "drecap['bow+MultinomialNB'] = {'acc':acc, \n",
    "                               'f1':f1, \n",
    "                               'precision':precision, \n",
    "                               'recall':recall, \n",
    "                               'roc_aus':roc_auc, \n",
    "                               'pr_auc':pr_auc}"
   ]
  },
  {
   "cell_type": "markdown",
   "metadata": {
    "id": "SELY1upRCDn4"
   },
   "source": [
    "#### TFIDF"
   ]
  },
  {
   "cell_type": "code",
   "execution_count": 40,
   "metadata": {
    "colab": {
     "base_uri": "https://localhost:8080/",
     "height": 1000
    },
    "id": "tw1Rfz9ZCHHv",
    "outputId": "e5244eb0-899a-4d4f-9863-b6ee178259d5"
   },
   "outputs": [
    {
     "name": "stdout",
     "output_type": "stream",
     "text": [
      "acc:  0.9224438902743142\n",
      "f1:  0.82808181315644\n",
      "recall:  0.7753623188405797\n",
      "precision:  0.8884934756820878\n"
     ]
    },
    {
     "data": {
      "image/png": "[encoded data removed]",
      "text/plain": [
       "<Figure size 504x504 with 2 Axes>"
      ]
     },
     "metadata": {
      "needs_background": "light",
      "tags": []
     },
     "output_type": "display_data"
    },
    {
     "data": {
      "image/png": "[encoded data removed]",
      "text/plain": [
       "<Figure size 432x288 with 1 Axes>"
      ]
     },
     "metadata": {
      "needs_background": "light",
      "tags": []
     },
     "output_type": "display_data"
    },
    {
     "name": "stdout",
     "output_type": "stream",
     "text": [
      "roc_auc:  0.9730954285387812\n"
     ]
    },
    {
     "data": {
      "image/png": "[encoded data removed]",
      "text/plain": [
       "<Figure size 432x288 with 1 Axes>"
      ]
     },
     "metadata": {
      "needs_background": "light",
      "tags": []
     },
     "output_type": "display_data"
    },
    {
     "name": "stdout",
     "output_type": "stream",
     "text": [
      "pr_auc:  0.8951063641844081\n"
     ]
    }
   ],
   "source": [
    "\n",
    "X_train, X_val, y_train, y_val = train_test_split(X_train_tfidf, y_train_clf, test_size=0.20, random_state=42, stratify=y_train_clf)\n",
    "\n",
    "multiNB = MultinomialNB()\n",
    "multiNB.fit(X_train, y_train)\n",
    "y_pred = multiNB.predict(X_val)\n",
    "y_prob = multiNB.predict_proba(X_val)\n",
    "\n",
    "acc, f1, precision, recall, roc_auc, pr_auc = model_eval(y_val, y_pred, y_prob)\n",
    "\n",
    "drecap['tfidf+MultinomialNB'] = {'acc':acc, \n",
    "                                 'f1':f1, \n",
    "                               'precision':precision, \n",
    "                               'recall':recall, \n",
    "                               'roc_aus':roc_auc, \n",
    "                               'pr_auc':pr_auc}"
   ]
  },
  {
   "cell_type": "markdown",
   "metadata": {},
   "source": [
    "We see that the MultinomialNB is preforming very well with an accuracy more than 90%. We notice also its behavior change with BOW or TFIDF, in fact its affects the recall and the precision.\n",
    "1. With BOW we obtain precision=78% and recall=90%\n",
    "2. With TFIDF we obtain precision=88% and recall=77%\n"
   ]
  },
  {
   "cell_type": "markdown",
   "metadata": {
    "id": "Wq6f5GuBCV3N"
   },
   "source": [
    "### ComplementNB"
   ]
  },
  {
   "cell_type": "markdown",
   "metadata": {
    "id": "OuWgOcq3ChRx"
   },
   "source": [
    "#### Bag Of Words"
   ]
  },
  {
   "cell_type": "code",
   "execution_count": 41,
   "metadata": {
    "colab": {
     "base_uri": "https://localhost:8080/",
     "height": 1000
    },
    "id": "2tgRFuWDCzRl",
    "outputId": "ca1f1024-c3a8-4bd1-f806-adb47ac2fdbd"
   },
   "outputs": [
    {
     "name": "stdout",
     "output_type": "stream",
     "text": [
      "acc:  0.8835411471321696\n",
      "f1:  0.7991397849462366\n",
      "recall:  0.9616977225672878\n",
      "precision:  0.6835908756438558\n"
     ]
    },
    {
     "data": {
      "image/png": "[encoded data removed]",
      "text/plain": [
       "<Figure size 504x504 with 2 Axes>"
      ]
     },
     "metadata": {
      "needs_background": "light",
      "tags": []
     },
     "output_type": "display_data"
    },
    {
     "data": {
      "image/png": "[encoded data removed]",
      "text/plain": [
       "<Figure size 432x288 with 1 Axes>"
      ]
     },
     "metadata": {
      "needs_background": "light",
      "tags": []
     },
     "output_type": "display_data"
    },
    {
     "name": "stdout",
     "output_type": "stream",
     "text": [
      "roc_auc:  0.9715633782508033\n"
     ]
    },
    {
     "data": {
      "image/png": "[encoded data removed]",
      "text/plain": [
       "<Figure size 432x288 with 1 Axes>"
      ]
     },
     "metadata": {
      "needs_background": "light",
      "tags": []
     },
     "output_type": "display_data"
    },
    {
     "name": "stdout",
     "output_type": "stream",
     "text": [
      "pr_auc:  0.8968181990291881\n"
     ]
    }
   ],
   "source": [
    "X_train, X_val, y_train, y_val = train_test_split(X_train_bow, y_train_clf, test_size=0.20, random_state=42, stratify=y_train_clf)\n",
    "\n",
    "compNB = ComplementNB()\n",
    "compNB.fit(X_train, y_train)\n",
    "y_pred = compNB.predict(X_val)\n",
    "y_prob = compNB.predict_proba(X_val)\n",
    "\n",
    "acc, f1, precision, recall, roc_auc, pr_auc = model_eval(y_val, y_pred, y_prob)\n",
    "\n",
    "drecap['bow+ComplementNB'] = {'acc':acc, \n",
    "                              'f1':f1, \n",
    "                               'precision':precision, \n",
    "                               'recall':recall, \n",
    "                               'roc_aus':roc_auc, \n",
    "                               'pr_auc':pr_auc}"
   ]
  },
  {
   "cell_type": "markdown",
   "metadata": {
    "id": "AwO1GFDLCl11"
   },
   "source": [
    "#### TFIDF"
   ]
  },
  {
   "cell_type": "code",
   "execution_count": 42,
   "metadata": {
    "colab": {
     "base_uri": "https://localhost:8080/",
     "height": 1000
    },
    "id": "GEFXMvKKC0dd",
    "outputId": "91251661-9b21-47b4-b86c-70087d28c483"
   },
   "outputs": [
    {
     "name": "stdout",
     "output_type": "stream",
     "text": [
      "acc:  0.8945137157107232\n",
      "f1:  0.8145550197281893\n",
      "recall:  0.9616977225672878\n",
      "precision:  0.7064638783269962\n"
     ]
    },
    {
     "data": {
      "image/png": "[encoded data removed]",
      "text/plain": [
       "<Figure size 504x504 with 2 Axes>"
      ]
     },
     "metadata": {
      "needs_background": "light",
      "tags": []
     },
     "output_type": "display_data"
    },
    {
     "data": {
      "image/png": "[encoded data removed]",
      "text/plain": [
       "<Figure size 432x288 with 1 Axes>"
      ]
     },
     "metadata": {
      "needs_background": "light",
      "tags": []
     },
     "output_type": "display_data"
    },
    {
     "name": "stdout",
     "output_type": "stream",
     "text": [
      "roc_auc:  0.9730954285387812\n"
     ]
    },
    {
     "data": {
      "image/png": "[encoded data removed]",
      "text/plain": [
       "<Figure size 432x288 with 1 Axes>"
      ]
     },
     "metadata": {
      "needs_background": "light",
      "tags": []
     },
     "output_type": "display_data"
    },
    {
     "name": "stdout",
     "output_type": "stream",
     "text": [
      "pr_auc:  0.8951063641844081\n"
     ]
    }
   ],
   "source": [
    "X_train, X_val, y_train, y_val = train_test_split(X_train_tfidf, y_train_clf, test_size=0.20, random_state=42, stratify=y_train_clf)\n",
    "\n",
    "compNB = ComplementNB()\n",
    "compNB.fit(X_train, y_train)\n",
    "y_pred = compNB.predict(X_val)\n",
    "y_prob = compNB.predict_proba(X_val)\n",
    "\n",
    "acc, f1, precision, recall, roc_auc, pr_auc = model_eval(y_val, y_pred, y_prob)\n",
    "\n",
    "drecap['tfidf+ComplementNB'] = {'acc':acc, \n",
    "                                'f1':f1, \n",
    "                               'precision':precision, \n",
    "                               'recall':recall, \n",
    "                               'roc_aus':roc_auc, \n",
    "                               'pr_auc':pr_auc}"
   ]
  },
  {
   "cell_type": "markdown",
   "metadata": {},
   "source": [
    "We see that the ComplementNB is preforming very well also with an accuracy around 88%. However its behavior doesn't really change according to the term-occurence matrix used."
   ]
  },
  {
   "cell_type": "code",
   "execution_count": 43,
   "metadata": {
    "id": "6c6AuXBRev3X"
   },
   "outputs": [],
   "source": [
    "df_model_recap = pd.DataFrame(drecap).T"
   ]
  },
  {
   "cell_type": "markdown",
   "metadata": {
    "id": "LqR7IBBQ5PCN"
   },
   "source": [
    "## Models Evaluation Summary"
   ]
  },
  {
   "cell_type": "code",
   "execution_count": 44,
   "metadata": {
    "colab": {
     "base_uri": "https://localhost:8080/",
     "height": 173
    },
    "id": "C5PamtU7rx6Y",
    "outputId": "c9792835-1e78-4a88-dcf2-3350d8aca24d"
   },
   "outputs": [
    {
     "data": {
      "text/html": [
       "<div>\n",
       "<style scoped>\n",
       "    .dataframe tbody tr th:only-of-type {\n",
       "        vertical-align: middle;\n",
       "    }\n",
       "\n",
       "    .dataframe tbody tr th {\n",
       "        vertical-align: top;\n",
       "    }\n",
       "\n",
       "    .dataframe thead th {\n",
       "        text-align: right;\n",
       "    }\n",
       "</style>\n",
       "<table border=\"1\" class=\"dataframe\">\n",
       "  <thead>\n",
       "    <tr style=\"text-align: right;\">\n",
       "      <th></th>\n",
       "      <th>acc</th>\n",
       "      <th>f1</th>\n",
       "      <th>precision</th>\n",
       "      <th>recall</th>\n",
       "      <th>roc_aus</th>\n",
       "      <th>pr_auc</th>\n",
       "    </tr>\n",
       "  </thead>\n",
       "  <tbody>\n",
       "    <tr>\n",
       "      <th>bow+MultinomialNB</th>\n",
       "      <td>0.918454</td>\n",
       "      <td>0.842864</td>\n",
       "      <td>0.786547</td>\n",
       "      <td>0.907867</td>\n",
       "      <td>0.971565</td>\n",
       "      <td>0.897289</td>\n",
       "    </tr>\n",
       "    <tr>\n",
       "      <th>tfidf+MultinomialNB</th>\n",
       "      <td>0.922444</td>\n",
       "      <td>0.828082</td>\n",
       "      <td>0.888493</td>\n",
       "      <td>0.775362</td>\n",
       "      <td>0.973095</td>\n",
       "      <td>0.895106</td>\n",
       "    </tr>\n",
       "    <tr>\n",
       "      <th>bow+ComplementNB</th>\n",
       "      <td>0.883541</td>\n",
       "      <td>0.799140</td>\n",
       "      <td>0.683591</td>\n",
       "      <td>0.961698</td>\n",
       "      <td>0.971563</td>\n",
       "      <td>0.896818</td>\n",
       "    </tr>\n",
       "    <tr>\n",
       "      <th>tfidf+ComplementNB</th>\n",
       "      <td>0.894514</td>\n",
       "      <td>0.814555</td>\n",
       "      <td>0.706464</td>\n",
       "      <td>0.961698</td>\n",
       "      <td>0.973095</td>\n",
       "      <td>0.895106</td>\n",
       "    </tr>\n",
       "  </tbody>\n",
       "</table>\n",
       "</div>"
      ],
      "text/plain": [
       "                          acc        f1  ...   roc_aus    pr_auc\n",
       "bow+MultinomialNB    0.918454  0.842864  ...  0.971565  0.897289\n",
       "tfidf+MultinomialNB  0.922444  0.828082  ...  0.973095  0.895106\n",
       "bow+ComplementNB     0.883541  0.799140  ...  0.971563  0.896818\n",
       "tfidf+ComplementNB   0.894514  0.814555  ...  0.973095  0.895106\n",
       "\n",
       "[4 rows x 6 columns]"
      ]
     },
     "execution_count": 44,
     "metadata": {
      "tags": []
     },
     "output_type": "execute_result"
    }
   ],
   "source": [
    "df_model_recap"
   ]
  },
  {
   "cell_type": "markdown",
   "metadata": {
    "id": "GeSbfOBOr1Kf"
   },
   "source": [
    "First of all the four models are performing very well according to their AUC from the ROC curve and Precision-Recall curve. Moreover their accuracy and f1 score are good.\n",
    "\n",
    "If we refine our objectif we can choose one of them which fits better.\n",
    "\n",
    "The solutions with the **ComplementNB** method have a better recall and lower precision. It can be a good choice if we want to detect a maximum of harmfull speeches while accepting a certain proportion of false negatif. In that scenario I choose the **tfidf+ComplementNB** with a recall of 96% and a precision of 70%\n",
    "\n",
    "Another distinction is about the term occurence matrix used: With TFIDF we obtain a better precision than using BOW.\n",
    "\n",
    "In other hands, with the scenario where the precision is more important, the model **tfidf+Multinomial** will be a better choice.\n",
    "\n",
    "Finaly, I will choose the **bow+MultinomailNB** because it has the best balance between precision and recall with the higher f1 score : 84.28"
   ]
  },
  {
   "cell_type": "markdown",
   "metadata": {
    "id": "4fMHLPR2Afwd"
   },
   "source": [
    "## Improvements\n",
    "\n",
    "In keeping the same process: \n",
    "1. Modify parameters of the term-occurences matrices - add more vocab - use trigram\n",
    "2. Use cross validation \n",
    "3. Tune the smoothing parameter of ComplementNB\n",
    "\n",
    "Several solutions can be fit this problem, this is one I would want to try : **BERT embedding + Supervised UMAP + SVM** \n",
    "Transformers (like BERT) have the advantages to not depend on the vocab from the dataset you are using because they are already trained on really huge amount of data. In addidtion, BERT understand the context of the text and adapt its embedding according to it. UMAP is diemension reduction method which understand in a macro and micro wise the connections between the diemnsions, in a supervised way it  can put forward the harmfull speeches."
   ]
  },
  {
   "cell_type": "markdown",
   "metadata": {
    "id": "rPjnM5AZVTBf"
   },
   "source": [
    "# Predict on Test Set"
   ]
  },
  {
   "cell_type": "code",
   "execution_count": 58,
   "metadata": {
    "id": "xlw3ArLKVXIJ"
   },
   "outputs": [],
   "source": [
    "df_test['Clean_text'] = df_test.Text.apply(lambda t: clean_text(t))"
   ]
  },
  {
   "cell_type": "code",
   "execution_count": 59,
   "metadata": {
    "id": "1cacCYQ9V_oB"
   },
   "outputs": [],
   "source": [
    "crorpus_test = df_test.Clean_text.values.tolist()"
   ]
  },
  {
   "cell_type": "code",
   "execution_count": 60,
   "metadata": {
    "id": "pensXVelWrX9"
   },
   "outputs": [],
   "source": [
    "X_test = bow.transform(crorpus_test).toarray()"
   ]
  },
  {
   "cell_type": "code",
   "execution_count": 61,
   "metadata": {
    "id": "y0gVoE01sqme"
   },
   "outputs": [],
   "source": [
    "multiNB = MultinomialNB()\n",
    "multiNB.fit(X_train_bow, y_train_clf)\n",
    "y_pred = multiNB.predict(X_test)\n",
    "y_prob = multiNB.predict_proba(X_test)"
   ]
  },
  {
   "cell_type": "code",
   "execution_count": 63,
   "metadata": {
    "id": "N67ww3h5XQfy"
   },
   "outputs": [],
   "source": [
    "file1 = open(\"gdrive/My Drive/FAT-GROUP Home Assignement/test_prediction.txt\",\"w\") \n",
    "for p in y_pred:\n",
    "  file1.write(str(p)+'\\n') \n",
    "file1.close()"
   ]
  },
  {
   "cell_type": "code",
   "execution_count": null,
   "metadata": {
    "id": "7TEIDiokFKPb"
   },
   "outputs": [],
   "source": []
  }
 ],
 "metadata": {
  "accelerator": "GPU",
  "colab": {
   "name": "FAT_GROUP_HS.ipynb",
   "provenance": [],
   "toc_visible": true
  },
  "kernelspec": {
   "display_name": "Python 3",
   "language": "python",
   "name": "python3"
  },
  "language_info": {
   "codemirror_mode": {
    "name": "ipython",
    "version": 3
   },
   "file_extension": ".py",
   "mimetype": "text/x-python",
   "name": "python",
   "nbconvert_exporter": "python",
   "pygments_lexer": "ipython3",
   "version": "3.6.10"
  },
  "latex_envs": {
   "LaTeX_envs_menu_present": true,
   "autoclose": false,
   "autocomplete": true,
   "bibliofile": "biblio.bib",
   "cite_by": "apalike",
   "current_citInitial": 1,
   "eqLabelWithNumbers": true,
   "eqNumInitial": 1,
   "hotkeys": {
    "equation": "Ctrl-E",
    "itemize": "Ctrl-I"
   },
   "labels_anchors": false,
   "latex_user_defs": false,
   "report_style_numbering": false,
   "user_envs_cfg": false
  },
  "toc": {
   "base_numbering": 1,
   "nav_menu": {},
   "number_sections": true,
   "sideBar": true,
   "skip_h1_title": false,
   "title_cell": "Table of Contents",
   "title_sidebar": "Contents",
   "toc_cell": false,
   "toc_position": {},
   "toc_section_display": true,
   "toc_window_display": true
  },
  "varInspector": {
   "cols": {
    "lenName": 16,
    "lenType": 16,
    "lenVar": 40
   },
   "kernels_config": {
    "python": {
     "delete_cmd_postfix": "",
     "delete_cmd_prefix": "del ",
     "library": "var_list.py",
     "varRefreshCmd": "print(var_dic_list())"
    },
    "r": {
     "delete_cmd_postfix": ") ",
     "delete_cmd_prefix": "rm(",
     "library": "var_list.r",
     "varRefreshCmd": "cat(var_dic_list()) "
    }
   },
   "types_to_exclude": [
    "module",
    "function",
    "builtin_function_or_method",
    "instance",
    "_Feature"
   ],
   "window_display": false
  }
 },
 "nbformat": 4,
 "nbformat_minor": 1
}
